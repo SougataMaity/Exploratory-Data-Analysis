{
 "cells": [
  {
   "cell_type": "markdown",
   "id": "13552489",
   "metadata": {},
   "source": [
    "### Assignment for Data Analyst "
   ]
  },
  {
   "cell_type": "markdown",
   "id": "92c6c0c2",
   "metadata": {},
   "source": [
    "#### Import all the requirments module in python"
   ]
  },
  {
   "cell_type": "code",
   "execution_count": 1,
   "id": "b969f253",
   "metadata": {},
   "outputs": [],
   "source": [
    "import os\n",
    "import numpy as np\n",
    "import pandas as pd\n",
    "import seaborn as sns\n",
    "import matplotlib.pyplot as plt"
   ]
  },
  {
   "cell_type": "markdown",
   "id": "3a1771de",
   "metadata": {},
   "source": [
    "#### Import csv file in python "
   ]
  },
  {
   "cell_type": "code",
   "execution_count": 2,
   "id": "96c835ea",
   "metadata": {},
   "outputs": [
    {
     "data": {
      "text/plain": [
       "['day_wise_user_activity.csv',\n",
       " 'discussion_feedback_details.csv',\n",
       " 'learning_resource_details.csv',\n",
       " 'users_basic_details.csv']"
      ]
     },
     "execution_count": 2,
     "metadata": {},
     "output_type": "execute_result"
    }
   ],
   "source": [
    "os.chdir('E:\\\\Nxtwave\\\\data')\n",
    "os.listdir()"
   ]
  },
  {
   "cell_type": "code",
   "execution_count": 3,
   "id": "4c9db941",
   "metadata": {},
   "outputs": [],
   "source": [
    "learning_resource = pd.read_csv('learning_resource_details.csv')\n",
    "user_details = pd.read_csv('users_basic_details.csv')\n",
    "user_feedback = pd.read_csv('discussion_feedback_details.csv')"
   ]
  },
  {
   "cell_type": "code",
   "execution_count": 4,
   "id": "f1f157dc",
   "metadata": {},
   "outputs": [
    {
     "name": "stdout",
     "output_type": "stream",
     "text": [
      "learning_resource Data\n",
      "Number of instance :  889\n",
      "Number of feature  :  8\n"
     ]
    }
   ],
   "source": [
    "print('learning_resource Data')\n",
    "print('Number of instance : ', learning_resource.shape[0])\n",
    "print('Number of feature  : ', learning_resource.shape[1])"
   ]
  },
  {
   "cell_type": "markdown",
   "id": "31c2a321",
   "metadata": {},
   "source": [
    "#### First five Observations"
   ]
  },
  {
   "cell_type": "code",
   "execution_count": 5,
   "id": "65125680",
   "metadata": {},
   "outputs": [
    {
     "data": {
      "text/html": [
       "<div>\n",
       "<style scoped>\n",
       "    .dataframe tbody tr th:only-of-type {\n",
       "        vertical-align: middle;\n",
       "    }\n",
       "\n",
       "    .dataframe tbody tr th {\n",
       "        vertical-align: top;\n",
       "    }\n",
       "\n",
       "    .dataframe thead th {\n",
       "        text-align: right;\n",
       "    }\n",
       "</style>\n",
       "<table border=\"1\" class=\"dataframe\">\n",
       "  <thead>\n",
       "    <tr style=\"text-align: right;\">\n",
       "      <th></th>\n",
       "      <th>program_id</th>\n",
       "      <th>program_title</th>\n",
       "      <th>course_id</th>\n",
       "      <th>course_title</th>\n",
       "      <th>topic_id</th>\n",
       "      <th>unit_id</th>\n",
       "      <th>unit_type</th>\n",
       "      <th>unit_duration_in_mins</th>\n",
       "    </tr>\n",
       "  </thead>\n",
       "  <tbody>\n",
       "    <tr>\n",
       "      <th>0</th>\n",
       "      <td>prg_1</td>\n",
       "      <td>Backend Developer</td>\n",
       "      <td>course_1</td>\n",
       "      <td>Node JS</td>\n",
       "      <td>topic_1</td>\n",
       "      <td>unit_1</td>\n",
       "      <td>PRACTICE</td>\n",
       "      <td>25</td>\n",
       "    </tr>\n",
       "    <tr>\n",
       "      <th>1</th>\n",
       "      <td>prg_1</td>\n",
       "      <td>Backend Developer</td>\n",
       "      <td>course_1</td>\n",
       "      <td>Node JS</td>\n",
       "      <td>topic_1</td>\n",
       "      <td>unit_2</td>\n",
       "      <td>PRACTICE</td>\n",
       "      <td>30</td>\n",
       "    </tr>\n",
       "    <tr>\n",
       "      <th>2</th>\n",
       "      <td>prg_1</td>\n",
       "      <td>Backend Developer</td>\n",
       "      <td>course_1</td>\n",
       "      <td>Node JS</td>\n",
       "      <td>topic_1</td>\n",
       "      <td>unit_3</td>\n",
       "      <td>LEARNING_SET</td>\n",
       "      <td>5</td>\n",
       "    </tr>\n",
       "    <tr>\n",
       "      <th>3</th>\n",
       "      <td>prg_1</td>\n",
       "      <td>Backend Developer</td>\n",
       "      <td>course_1</td>\n",
       "      <td>Node JS</td>\n",
       "      <td>topic_1</td>\n",
       "      <td>unit_4</td>\n",
       "      <td>LEARNING_SET</td>\n",
       "      <td>15</td>\n",
       "    </tr>\n",
       "    <tr>\n",
       "      <th>4</th>\n",
       "      <td>prg_1</td>\n",
       "      <td>Backend Developer</td>\n",
       "      <td>course_1</td>\n",
       "      <td>Node JS</td>\n",
       "      <td>topic_1</td>\n",
       "      <td>unit_5</td>\n",
       "      <td>PRACTICE</td>\n",
       "      <td>2000</td>\n",
       "    </tr>\n",
       "  </tbody>\n",
       "</table>\n",
       "</div>"
      ],
      "text/plain": [
       "  program_id      program_title course_id course_title topic_id unit_id  \\\n",
       "0      prg_1  Backend Developer  course_1      Node JS  topic_1  unit_1   \n",
       "1      prg_1  Backend Developer  course_1      Node JS  topic_1  unit_2   \n",
       "2      prg_1  Backend Developer  course_1      Node JS  topic_1  unit_3   \n",
       "3      prg_1  Backend Developer  course_1      Node JS  topic_1  unit_4   \n",
       "4      prg_1  Backend Developer  course_1      Node JS  topic_1  unit_5   \n",
       "\n",
       "      unit_type  unit_duration_in_mins  \n",
       "0      PRACTICE                     25  \n",
       "1      PRACTICE                     30  \n",
       "2  LEARNING_SET                      5  \n",
       "3  LEARNING_SET                     15  \n",
       "4      PRACTICE                   2000  "
      ]
     },
     "execution_count": 5,
     "metadata": {},
     "output_type": "execute_result"
    }
   ],
   "source": [
    "learning_resource.head()"
   ]
  },
  {
   "cell_type": "markdown",
   "id": "6451f3f5",
   "metadata": {},
   "source": [
    "#### Basic information about Feature"
   ]
  },
  {
   "cell_type": "code",
   "execution_count": 6,
   "id": "7479342d",
   "metadata": {},
   "outputs": [
    {
     "name": "stdout",
     "output_type": "stream",
     "text": [
      "<class 'pandas.core.frame.DataFrame'>\n",
      "RangeIndex: 889 entries, 0 to 888\n",
      "Data columns (total 8 columns):\n",
      " #   Column                 Non-Null Count  Dtype \n",
      "---  ------                 --------------  ----- \n",
      " 0   program_id             889 non-null    object\n",
      " 1   program_title          878 non-null    object\n",
      " 2   course_id              889 non-null    object\n",
      " 3   course_title           889 non-null    object\n",
      " 4   topic_id               889 non-null    object\n",
      " 5   unit_id                889 non-null    object\n",
      " 6   unit_type              889 non-null    object\n",
      " 7   unit_duration_in_mins  889 non-null    int64 \n",
      "dtypes: int64(1), object(7)\n",
      "memory usage: 55.7+ KB\n"
     ]
    }
   ],
   "source": [
    "learning_resource.info()"
   ]
  },
  {
   "cell_type": "markdown",
   "id": "c7df51b5",
   "metadata": {},
   "source": [
    "#### Create a count function n_count"
   ]
  },
  {
   "cell_type": "code",
   "execution_count": 7,
   "id": "5d8f4703",
   "metadata": {},
   "outputs": [],
   "source": [
    "def n_count(dataframe, var1):\n",
    "    '''Single Feature unique value count in a dataframe'''\n",
    "    count = 0\n",
    "    items = []\n",
    "    for i in dataframe[var1].unique():\n",
    "        count = count + 1\n",
    "        items.append(i)\n",
    "        \n",
    "    return print(f'{count} unique elements in {var1}\\n{items}')"
   ]
  },
  {
   "cell_type": "markdown",
   "id": "6d315b61",
   "metadata": {},
   "source": [
    "#### Number of programs"
   ]
  },
  {
   "cell_type": "code",
   "execution_count": 8,
   "id": "d8def067",
   "metadata": {},
   "outputs": [
    {
     "name": "stdout",
     "output_type": "stream",
     "text": [
      "14 unique elements in program_id\n",
      "['prg_1', 'prg_2', 'prg_3', 'prg_4', 'prg_5', 'prg_6', 'prg_7', 'prg_8', 'prg_9', 'prg_10', 'prg_11', 'prg_12', 'prg_13', 'prg_14']\n"
     ]
    }
   ],
   "source": [
    "n_count(learning_resource, 'program_id')"
   ]
  },
  {
   "cell_type": "markdown",
   "id": "16efe992",
   "metadata": {},
   "source": [
    "#### Number of program title"
   ]
  },
  {
   "cell_type": "code",
   "execution_count": 9,
   "id": "7355d2ad",
   "metadata": {},
   "outputs": [
    {
     "name": "stdout",
     "output_type": "stream",
     "text": [
      "14 unique elements in program_title\n",
      "['Backend Developer', 'English for Beginners', 'XPM 4.0 Intermediate', 'Intro to CCBP 4.0 Intensive', 'Aptitude', 'Competitive Programming', 'Tech Foundations', 'Masterclass with Srividya Pranavi', 'Instruction Flows', 'AI-ML', 'Understanding 5G', 'XPM 4.0 Fundamentals', nan, 'CCBP 4.0 Academy - Intro']\n"
     ]
    }
   ],
   "source": [
    "n_count(learning_resource, 'program_title')"
   ]
  },
  {
   "cell_type": "markdown",
   "id": "36c331c9",
   "metadata": {},
   "source": [
    "#### Number of course title"
   ]
  },
  {
   "cell_type": "code",
   "execution_count": 10,
   "id": "9be27f2c",
   "metadata": {},
   "outputs": [
    {
     "name": "stdout",
     "output_type": "stream",
     "text": [
      "21 unique elements in course_title\n",
      "['Node JS', 'About Me', 'My Family', 'Self - talk', 'Introduction', 'Input - Output', 'Verbal Ability', 'Data Structures', 'My Daily routine', 'My Past & Future', 'Practical Python', 'Srividya Pranavi', 'Instruction Flows', 'Logical Reasoning', 'Fundamentals of ML', 'MASTERCLASS SERIES', 'Setting Priorities', 'Test Based Learning', 'Test Your Knowledge', 'CCBP 4.0 Introduction', 'Developer Foundations']\n"
     ]
    }
   ],
   "source": [
    "n_count(learning_resource,'course_title')"
   ]
  },
  {
   "cell_type": "markdown",
   "id": "3ce77d32",
   "metadata": {},
   "source": [
    "#### Create a Group by function of two Features"
   ]
  },
  {
   "cell_type": "code",
   "execution_count": 11,
   "id": "8dcac114",
   "metadata": {},
   "outputs": [],
   "source": [
    "def group_by_count(dataframe, var1, var2):\n",
    "    \n",
    "    '''Two variable group by function'''\n",
    "    \n",
    "    group_fun   = dataframe.groupby(var1)[var2]\n",
    "    group_value = group_fun.value_counts(normalize=True).mul(100)\n",
    "    dataframe   = pd.DataFrame(group_value.reset_index(name = \"Percentage\"))\n",
    "    return dataframe.round(1)"
   ]
  },
  {
   "cell_type": "code",
   "execution_count": 12,
   "id": "11bc0097",
   "metadata": {},
   "outputs": [
    {
     "data": {
      "text/html": [
       "<div>\n",
       "<style scoped>\n",
       "    .dataframe tbody tr th:only-of-type {\n",
       "        vertical-align: middle;\n",
       "    }\n",
       "\n",
       "    .dataframe tbody tr th {\n",
       "        vertical-align: top;\n",
       "    }\n",
       "\n",
       "    .dataframe thead th {\n",
       "        text-align: right;\n",
       "    }\n",
       "</style>\n",
       "<table border=\"1\" class=\"dataframe\">\n",
       "  <thead>\n",
       "    <tr style=\"text-align: right;\">\n",
       "      <th></th>\n",
       "      <th>program_title</th>\n",
       "      <th>course_title</th>\n",
       "      <th>Percentage</th>\n",
       "    </tr>\n",
       "  </thead>\n",
       "  <tbody>\n",
       "    <tr>\n",
       "      <th>0</th>\n",
       "      <td>AI-ML</td>\n",
       "      <td>Fundamentals of ML</td>\n",
       "      <td>100.0</td>\n",
       "    </tr>\n",
       "    <tr>\n",
       "      <th>1</th>\n",
       "      <td>Aptitude</td>\n",
       "      <td>Test Based Learning</td>\n",
       "      <td>59.5</td>\n",
       "    </tr>\n",
       "    <tr>\n",
       "      <th>2</th>\n",
       "      <td>Aptitude</td>\n",
       "      <td>Input - Output</td>\n",
       "      <td>22.6</td>\n",
       "    </tr>\n",
       "    <tr>\n",
       "      <th>3</th>\n",
       "      <td>Aptitude</td>\n",
       "      <td>Logical Reasoning</td>\n",
       "      <td>14.3</td>\n",
       "    </tr>\n",
       "    <tr>\n",
       "      <th>4</th>\n",
       "      <td>Aptitude</td>\n",
       "      <td>Verbal Ability</td>\n",
       "      <td>3.6</td>\n",
       "    </tr>\n",
       "    <tr>\n",
       "      <th>5</th>\n",
       "      <td>Backend Developer</td>\n",
       "      <td>Node JS</td>\n",
       "      <td>100.0</td>\n",
       "    </tr>\n",
       "    <tr>\n",
       "      <th>6</th>\n",
       "      <td>CCBP 4.0 Academy - Intro</td>\n",
       "      <td>CCBP 4.0 Introduction</td>\n",
       "      <td>100.0</td>\n",
       "    </tr>\n",
       "    <tr>\n",
       "      <th>7</th>\n",
       "      <td>Competitive Programming</td>\n",
       "      <td>Data Structures</td>\n",
       "      <td>100.0</td>\n",
       "    </tr>\n",
       "    <tr>\n",
       "      <th>8</th>\n",
       "      <td>English for Beginners</td>\n",
       "      <td>My Past &amp; Future</td>\n",
       "      <td>27.5</td>\n",
       "    </tr>\n",
       "    <tr>\n",
       "      <th>9</th>\n",
       "      <td>English for Beginners</td>\n",
       "      <td>About Me</td>\n",
       "      <td>26.1</td>\n",
       "    </tr>\n",
       "    <tr>\n",
       "      <th>10</th>\n",
       "      <td>English for Beginners</td>\n",
       "      <td>My Daily routine</td>\n",
       "      <td>24.6</td>\n",
       "    </tr>\n",
       "    <tr>\n",
       "      <th>11</th>\n",
       "      <td>English for Beginners</td>\n",
       "      <td>My Family</td>\n",
       "      <td>21.7</td>\n",
       "    </tr>\n",
       "    <tr>\n",
       "      <th>12</th>\n",
       "      <td>Instruction Flows</td>\n",
       "      <td>Instruction Flows</td>\n",
       "      <td>100.0</td>\n",
       "    </tr>\n",
       "    <tr>\n",
       "      <th>13</th>\n",
       "      <td>Intro to CCBP 4.0 Intensive</td>\n",
       "      <td>Introduction</td>\n",
       "      <td>100.0</td>\n",
       "    </tr>\n",
       "    <tr>\n",
       "      <th>14</th>\n",
       "      <td>Masterclass with Srividya Pranavi</td>\n",
       "      <td>Srividya Pranavi</td>\n",
       "      <td>100.0</td>\n",
       "    </tr>\n",
       "    <tr>\n",
       "      <th>15</th>\n",
       "      <td>Tech Foundations</td>\n",
       "      <td>Practical Python</td>\n",
       "      <td>65.4</td>\n",
       "    </tr>\n",
       "    <tr>\n",
       "      <th>16</th>\n",
       "      <td>Tech Foundations</td>\n",
       "      <td>Developer Foundations</td>\n",
       "      <td>34.6</td>\n",
       "    </tr>\n",
       "    <tr>\n",
       "      <th>17</th>\n",
       "      <td>Understanding 5G</td>\n",
       "      <td>MASTERCLASS SERIES</td>\n",
       "      <td>100.0</td>\n",
       "    </tr>\n",
       "    <tr>\n",
       "      <th>18</th>\n",
       "      <td>XPM 4.0 Fundamentals</td>\n",
       "      <td>Setting Priorities</td>\n",
       "      <td>100.0</td>\n",
       "    </tr>\n",
       "    <tr>\n",
       "      <th>19</th>\n",
       "      <td>XPM 4.0 Intermediate</td>\n",
       "      <td>Self - talk</td>\n",
       "      <td>100.0</td>\n",
       "    </tr>\n",
       "  </tbody>\n",
       "</table>\n",
       "</div>"
      ],
      "text/plain": [
       "                        program_title           course_title  Percentage\n",
       "0                               AI-ML     Fundamentals of ML       100.0\n",
       "1                            Aptitude    Test Based Learning        59.5\n",
       "2                            Aptitude         Input - Output        22.6\n",
       "3                            Aptitude      Logical Reasoning        14.3\n",
       "4                            Aptitude         Verbal Ability         3.6\n",
       "5                   Backend Developer                Node JS       100.0\n",
       "6            CCBP 4.0 Academy - Intro  CCBP 4.0 Introduction       100.0\n",
       "7             Competitive Programming        Data Structures       100.0\n",
       "8               English for Beginners       My Past & Future        27.5\n",
       "9               English for Beginners               About Me        26.1\n",
       "10              English for Beginners       My Daily routine        24.6\n",
       "11              English for Beginners              My Family        21.7\n",
       "12                  Instruction Flows      Instruction Flows       100.0\n",
       "13        Intro to CCBP 4.0 Intensive           Introduction       100.0\n",
       "14  Masterclass with Srividya Pranavi       Srividya Pranavi       100.0\n",
       "15                   Tech Foundations       Practical Python        65.4\n",
       "16                   Tech Foundations  Developer Foundations        34.6\n",
       "17                   Understanding 5G     MASTERCLASS SERIES       100.0\n",
       "18               XPM 4.0 Fundamentals     Setting Priorities       100.0\n",
       "19               XPM 4.0 Intermediate            Self - talk       100.0"
      ]
     },
     "execution_count": 12,
     "metadata": {},
     "output_type": "execute_result"
    }
   ],
   "source": [
    "program_course = group_by_count(learning_resource, 'program_title','course_title')\n",
    "program_course"
   ]
  },
  {
   "cell_type": "markdown",
   "id": "224d28d1",
   "metadata": {},
   "source": [
    "##### Graphical representation : Barplot"
   ]
  },
  {
   "cell_type": "code",
   "execution_count": 13,
   "id": "9493a7d1",
   "metadata": {},
   "outputs": [
    {
     "data": {
      "text/html": [
       "<div>\n",
       "<style scoped>\n",
       "    .dataframe tbody tr th:only-of-type {\n",
       "        vertical-align: middle;\n",
       "    }\n",
       "\n",
       "    .dataframe tbody tr th {\n",
       "        vertical-align: top;\n",
       "    }\n",
       "\n",
       "    .dataframe thead th {\n",
       "        text-align: right;\n",
       "    }\n",
       "</style>\n",
       "<table border=\"1\" class=\"dataframe\">\n",
       "  <thead>\n",
       "    <tr style=\"text-align: right;\">\n",
       "      <th></th>\n",
       "      <th>program_title</th>\n",
       "      <th>course_title</th>\n",
       "      <th>Percentage</th>\n",
       "    </tr>\n",
       "  </thead>\n",
       "  <tbody>\n",
       "    <tr>\n",
       "      <th>4</th>\n",
       "      <td>Aptitude</td>\n",
       "      <td>Verbal Ability</td>\n",
       "      <td>3.6</td>\n",
       "    </tr>\n",
       "    <tr>\n",
       "      <th>3</th>\n",
       "      <td>Aptitude</td>\n",
       "      <td>Logical Reasoning</td>\n",
       "      <td>14.3</td>\n",
       "    </tr>\n",
       "    <tr>\n",
       "      <th>11</th>\n",
       "      <td>English for Beginners</td>\n",
       "      <td>My Family</td>\n",
       "      <td>21.7</td>\n",
       "    </tr>\n",
       "    <tr>\n",
       "      <th>2</th>\n",
       "      <td>Aptitude</td>\n",
       "      <td>Input - Output</td>\n",
       "      <td>22.6</td>\n",
       "    </tr>\n",
       "    <tr>\n",
       "      <th>10</th>\n",
       "      <td>English for Beginners</td>\n",
       "      <td>My Daily routine</td>\n",
       "      <td>24.6</td>\n",
       "    </tr>\n",
       "    <tr>\n",
       "      <th>9</th>\n",
       "      <td>English for Beginners</td>\n",
       "      <td>About Me</td>\n",
       "      <td>26.1</td>\n",
       "    </tr>\n",
       "    <tr>\n",
       "      <th>8</th>\n",
       "      <td>English for Beginners</td>\n",
       "      <td>My Past &amp; Future</td>\n",
       "      <td>27.5</td>\n",
       "    </tr>\n",
       "    <tr>\n",
       "      <th>16</th>\n",
       "      <td>Tech Foundations</td>\n",
       "      <td>Developer Foundations</td>\n",
       "      <td>34.6</td>\n",
       "    </tr>\n",
       "    <tr>\n",
       "      <th>1</th>\n",
       "      <td>Aptitude</td>\n",
       "      <td>Test Based Learning</td>\n",
       "      <td>59.5</td>\n",
       "    </tr>\n",
       "    <tr>\n",
       "      <th>15</th>\n",
       "      <td>Tech Foundations</td>\n",
       "      <td>Practical Python</td>\n",
       "      <td>65.4</td>\n",
       "    </tr>\n",
       "  </tbody>\n",
       "</table>\n",
       "</div>"
      ],
      "text/plain": [
       "            program_title           course_title  Percentage\n",
       "4                Aptitude         Verbal Ability         3.6\n",
       "3                Aptitude      Logical Reasoning        14.3\n",
       "11  English for Beginners              My Family        21.7\n",
       "2                Aptitude         Input - Output        22.6\n",
       "10  English for Beginners       My Daily routine        24.6\n",
       "9   English for Beginners               About Me        26.1\n",
       "8   English for Beginners       My Past & Future        27.5\n",
       "16       Tech Foundations  Developer Foundations        34.6\n",
       "1                Aptitude    Test Based Learning        59.5\n",
       "15       Tech Foundations       Practical Python        65.4"
      ]
     },
     "execution_count": 13,
     "metadata": {},
     "output_type": "execute_result"
    }
   ],
   "source": [
    "program_course_sort = program_course.sort_values('Percentage').head(10)\n",
    "program_course_sort"
   ]
  },
  {
   "cell_type": "code",
   "execution_count": 14,
   "id": "b2ab8dc6",
   "metadata": {},
   "outputs": [
    {
     "data": {
      "text/plain": [
       "<AxesSubplot:xlabel='course_title', ylabel='Percentage'>"
      ]
     },
     "execution_count": 14,
     "metadata": {},
     "output_type": "execute_result"
    },
    {
     "data": {
      "image/png": "[encoded data removed]",
      "text/plain": [
       "<Figure size 1800x432 with 3 Axes>"
      ]
     },
     "metadata": {
      "needs_background": "light"
     },
     "output_type": "display_data"
    }
   ],
   "source": [
    "fig, axs = plt.subplots(ncols=3,figsize = (25,6))\n",
    "\n",
    "sns.barplot(data = program_course_sort.loc[program_course_sort['program_title']=='Aptitude'],\n",
    "            x = 'course_title',y = 'Percentage', ax = axs[0])\n",
    "sns.barplot(data = program_course_sort.loc[program_course_sort['program_title']=='English for Beginners'],\n",
    "            x = 'course_title',y = 'Percentage', ax = axs[1])\n",
    "sns.barplot(data = program_course_sort.loc[program_course_sort['program_title']=='Tech Foundations'],\n",
    "            x = 'course_title',y = 'Percentage', ax = axs[2])"
   ]
  },
  {
   "cell_type": "code",
   "execution_count": 15,
   "id": "970cbe9e",
   "metadata": {},
   "outputs": [],
   "source": [
    "def group_by_sum(dataframe, var1, var2):\n",
    "    group_fun = dataframe.groupby(var1, as_index = False)[var2].sum()\n",
    "    return group_fun"
   ]
  },
  {
   "cell_type": "code",
   "execution_count": 16,
   "id": "eab20f3f",
   "metadata": {},
   "outputs": [
    {
     "data": {
      "text/html": [
       "<div>\n",
       "<style scoped>\n",
       "    .dataframe tbody tr th:only-of-type {\n",
       "        vertical-align: middle;\n",
       "    }\n",
       "\n",
       "    .dataframe tbody tr th {\n",
       "        vertical-align: top;\n",
       "    }\n",
       "\n",
       "    .dataframe thead th {\n",
       "        text-align: right;\n",
       "    }\n",
       "</style>\n",
       "<table border=\"1\" class=\"dataframe\">\n",
       "  <thead>\n",
       "    <tr style=\"text-align: right;\">\n",
       "      <th></th>\n",
       "      <th>course_title</th>\n",
       "      <th>unit_duration_in_mins</th>\n",
       "    </tr>\n",
       "  </thead>\n",
       "  <tbody>\n",
       "    <tr>\n",
       "      <th>0</th>\n",
       "      <td>About Me</td>\n",
       "      <td>690</td>\n",
       "    </tr>\n",
       "    <tr>\n",
       "      <th>1</th>\n",
       "      <td>CCBP 4.0 Introduction</td>\n",
       "      <td>575</td>\n",
       "    </tr>\n",
       "    <tr>\n",
       "      <th>2</th>\n",
       "      <td>Data Structures</td>\n",
       "      <td>8015</td>\n",
       "    </tr>\n",
       "    <tr>\n",
       "      <th>3</th>\n",
       "      <td>Developer Foundations</td>\n",
       "      <td>310</td>\n",
       "    </tr>\n",
       "    <tr>\n",
       "      <th>4</th>\n",
       "      <td>Fundamentals of ML</td>\n",
       "      <td>6826</td>\n",
       "    </tr>\n",
       "    <tr>\n",
       "      <th>5</th>\n",
       "      <td>Input - Output</td>\n",
       "      <td>340</td>\n",
       "    </tr>\n",
       "    <tr>\n",
       "      <th>6</th>\n",
       "      <td>Instruction Flows</td>\n",
       "      <td>481</td>\n",
       "    </tr>\n",
       "    <tr>\n",
       "      <th>7</th>\n",
       "      <td>Introduction</td>\n",
       "      <td>468</td>\n",
       "    </tr>\n",
       "    <tr>\n",
       "      <th>8</th>\n",
       "      <td>Logical Reasoning</td>\n",
       "      <td>285</td>\n",
       "    </tr>\n",
       "    <tr>\n",
       "      <th>9</th>\n",
       "      <td>MASTERCLASS SERIES</td>\n",
       "      <td>50</td>\n",
       "    </tr>\n",
       "    <tr>\n",
       "      <th>10</th>\n",
       "      <td>My Daily routine</td>\n",
       "      <td>635</td>\n",
       "    </tr>\n",
       "    <tr>\n",
       "      <th>11</th>\n",
       "      <td>My Family</td>\n",
       "      <td>600</td>\n",
       "    </tr>\n",
       "    <tr>\n",
       "      <th>12</th>\n",
       "      <td>My Past &amp; Future</td>\n",
       "      <td>780</td>\n",
       "    </tr>\n",
       "    <tr>\n",
       "      <th>13</th>\n",
       "      <td>Node JS</td>\n",
       "      <td>4450</td>\n",
       "    </tr>\n",
       "    <tr>\n",
       "      <th>14</th>\n",
       "      <td>Practical Python</td>\n",
       "      <td>1085</td>\n",
       "    </tr>\n",
       "    <tr>\n",
       "      <th>15</th>\n",
       "      <td>Self - talk</td>\n",
       "      <td>1210</td>\n",
       "    </tr>\n",
       "    <tr>\n",
       "      <th>16</th>\n",
       "      <td>Setting Priorities</td>\n",
       "      <td>575</td>\n",
       "    </tr>\n",
       "    <tr>\n",
       "      <th>17</th>\n",
       "      <td>Srividya Pranavi</td>\n",
       "      <td>45</td>\n",
       "    </tr>\n",
       "    <tr>\n",
       "      <th>18</th>\n",
       "      <td>Test Based Learning</td>\n",
       "      <td>1935</td>\n",
       "    </tr>\n",
       "    <tr>\n",
       "      <th>19</th>\n",
       "      <td>Test Your Knowledge</td>\n",
       "      <td>930</td>\n",
       "    </tr>\n",
       "    <tr>\n",
       "      <th>20</th>\n",
       "      <td>Verbal Ability</td>\n",
       "      <td>80</td>\n",
       "    </tr>\n",
       "  </tbody>\n",
       "</table>\n",
       "</div>"
      ],
      "text/plain": [
       "             course_title  unit_duration_in_mins\n",
       "0                About Me                    690\n",
       "1   CCBP 4.0 Introduction                    575\n",
       "2         Data Structures                   8015\n",
       "3   Developer Foundations                    310\n",
       "4      Fundamentals of ML                   6826\n",
       "5          Input - Output                    340\n",
       "6       Instruction Flows                    481\n",
       "7            Introduction                    468\n",
       "8       Logical Reasoning                    285\n",
       "9      MASTERCLASS SERIES                     50\n",
       "10       My Daily routine                    635\n",
       "11              My Family                    600\n",
       "12       My Past & Future                    780\n",
       "13                Node JS                   4450\n",
       "14       Practical Python                   1085\n",
       "15            Self - talk                   1210\n",
       "16     Setting Priorities                    575\n",
       "17       Srividya Pranavi                     45\n",
       "18    Test Based Learning                   1935\n",
       "19    Test Your Knowledge                    930\n",
       "20         Verbal Ability                     80"
      ]
     },
     "execution_count": 16,
     "metadata": {},
     "output_type": "execute_result"
    }
   ],
   "source": [
    "duration_by_course = group_by_sum(learning_resource, 'course_title', 'unit_duration_in_mins')\n",
    "duration_by_course"
   ]
  },
  {
   "cell_type": "markdown",
   "id": "a3e8f651",
   "metadata": {},
   "source": [
    "##### Graphical representation : Barplot"
   ]
  },
  {
   "cell_type": "code",
   "execution_count": 17,
   "id": "8a5d8eb1",
   "metadata": {},
   "outputs": [
    {
     "data": {
      "text/plain": [
       "<AxesSubplot:xlabel='unit_duration_in_mins', ylabel='course_title'>"
      ]
     },
     "execution_count": 17,
     "metadata": {},
     "output_type": "execute_result"
    },
    {
     "data": {
      "image/png": "[encoded data removed]",
      "text/plain": [
       "<Figure size 360x576 with 1 Axes>"
      ]
     },
     "metadata": {
      "needs_background": "light"
     },
     "output_type": "display_data"
    }
   ],
   "source": [
    "fig = plt.figure()\n",
    "fig.set_figwidth(5)\n",
    "fig.set_figheight(8)\n",
    "\n",
    "sns.barplot(data = duration_by_course, color=\"lightblue\",\n",
    "            x =\"unit_duration_in_mins\", y =\"course_title\")"
   ]
  },
  {
   "cell_type": "markdown",
   "id": "d6a101d8",
   "metadata": {},
   "source": [
    "#### Top five havy duration course"
   ]
  },
  {
   "cell_type": "code",
   "execution_count": 18,
   "id": "57cc5c9d",
   "metadata": {},
   "outputs": [
    {
     "data": {
      "text/html": [
       "<div>\n",
       "<style scoped>\n",
       "    .dataframe tbody tr th:only-of-type {\n",
       "        vertical-align: middle;\n",
       "    }\n",
       "\n",
       "    .dataframe tbody tr th {\n",
       "        vertical-align: top;\n",
       "    }\n",
       "\n",
       "    .dataframe thead th {\n",
       "        text-align: right;\n",
       "    }\n",
       "</style>\n",
       "<table border=\"1\" class=\"dataframe\">\n",
       "  <thead>\n",
       "    <tr style=\"text-align: right;\">\n",
       "      <th></th>\n",
       "      <th>course_title</th>\n",
       "      <th>unit_duration_in_mins</th>\n",
       "    </tr>\n",
       "  </thead>\n",
       "  <tbody>\n",
       "    <tr>\n",
       "      <th>15</th>\n",
       "      <td>Self - talk</td>\n",
       "      <td>1210</td>\n",
       "    </tr>\n",
       "    <tr>\n",
       "      <th>18</th>\n",
       "      <td>Test Based Learning</td>\n",
       "      <td>1935</td>\n",
       "    </tr>\n",
       "    <tr>\n",
       "      <th>13</th>\n",
       "      <td>Node JS</td>\n",
       "      <td>4450</td>\n",
       "    </tr>\n",
       "    <tr>\n",
       "      <th>4</th>\n",
       "      <td>Fundamentals of ML</td>\n",
       "      <td>6826</td>\n",
       "    </tr>\n",
       "    <tr>\n",
       "      <th>2</th>\n",
       "      <td>Data Structures</td>\n",
       "      <td>8015</td>\n",
       "    </tr>\n",
       "  </tbody>\n",
       "</table>\n",
       "</div>"
      ],
      "text/plain": [
       "           course_title  unit_duration_in_mins\n",
       "15          Self - talk                   1210\n",
       "18  Test Based Learning                   1935\n",
       "13              Node JS                   4450\n",
       "4    Fundamentals of ML                   6826\n",
       "2       Data Structures                   8015"
      ]
     },
     "execution_count": 18,
     "metadata": {},
     "output_type": "execute_result"
    }
   ],
   "source": [
    "top_5_dur_course = duration_by_course.sort_values('unit_duration_in_mins').tail(5)\n",
    "top_5_dur_course"
   ]
  },
  {
   "cell_type": "code",
   "execution_count": 19,
   "id": "533e54be",
   "metadata": {},
   "outputs": [
    {
     "data": {
      "text/plain": [
       "<AxesSubplot:xlabel='unit_duration_in_mins', ylabel='course_title'>"
      ]
     },
     "execution_count": 19,
     "metadata": {},
     "output_type": "execute_result"
    },
    {
     "data": {
      "image/png": "[encoded data removed]",
      "text/plain": [
       "<Figure size 432x288 with 1 Axes>"
      ]
     },
     "metadata": {
      "needs_background": "light"
     },
     "output_type": "display_data"
    }
   ],
   "source": [
    "sns.barplot(data=top_5_dur_course, color=\"lightpink\",\n",
    "            x =\"unit_duration_in_mins\", y =\"course_title\")"
   ]
  },
  {
   "cell_type": "code",
   "execution_count": 20,
   "id": "baa3a73a",
   "metadata": {},
   "outputs": [
    {
     "name": "stdout",
     "output_type": "stream",
     "text": [
      "User Details Data\n",
      "Number of instance:  53\n",
      "Number of feature :  6\n"
     ]
    }
   ],
   "source": [
    "print('User Details Data')\n",
    "print('Number of instance: ',user_details.shape[0])\n",
    "print('Number of feature : ', user_details.shape[1])"
   ]
  },
  {
   "cell_type": "markdown",
   "id": "346d02c5",
   "metadata": {},
   "source": [
    "#### First five observations"
   ]
  },
  {
   "cell_type": "code",
   "execution_count": 21,
   "id": "c868f3c8",
   "metadata": {},
   "outputs": [
    {
     "data": {
      "text/html": [
       "<div>\n",
       "<style scoped>\n",
       "    .dataframe tbody tr th:only-of-type {\n",
       "        vertical-align: middle;\n",
       "    }\n",
       "\n",
       "    .dataframe tbody tr th {\n",
       "        vertical-align: top;\n",
       "    }\n",
       "\n",
       "    .dataframe thead th {\n",
       "        text-align: right;\n",
       "    }\n",
       "</style>\n",
       "<table border=\"1\" class=\"dataframe\">\n",
       "  <thead>\n",
       "    <tr style=\"text-align: right;\">\n",
       "      <th></th>\n",
       "      <th>user_id</th>\n",
       "      <th>gender</th>\n",
       "      <th>current_city</th>\n",
       "      <th>batch_start_datetime</th>\n",
       "      <th>referral_source</th>\n",
       "      <th>highest_qualification</th>\n",
       "    </tr>\n",
       "  </thead>\n",
       "  <tbody>\n",
       "    <tr>\n",
       "      <th>0</th>\n",
       "      <td>user_1</td>\n",
       "      <td>FEMALE</td>\n",
       "      <td>Hyderabad</td>\n",
       "      <td>2022-02-02 10:00:00</td>\n",
       "      <td>youtube_ad</td>\n",
       "      <td>B.Tech</td>\n",
       "    </tr>\n",
       "    <tr>\n",
       "      <th>1</th>\n",
       "      <td>user_2</td>\n",
       "      <td>FEMALE</td>\n",
       "      <td>Bengaluru</td>\n",
       "      <td>2022-02-02 10:00:00</td>\n",
       "      <td>user_referral</td>\n",
       "      <td>10th Completed</td>\n",
       "    </tr>\n",
       "    <tr>\n",
       "      <th>2</th>\n",
       "      <td>user_3</td>\n",
       "      <td>MALE</td>\n",
       "      <td>Visakhapatnam</td>\n",
       "      <td>2022-02-02 10:00:00</td>\n",
       "      <td>website</td>\n",
       "      <td>Degree</td>\n",
       "    </tr>\n",
       "    <tr>\n",
       "      <th>3</th>\n",
       "      <td>user_4</td>\n",
       "      <td>MALE</td>\n",
       "      <td>Mumbai</td>\n",
       "      <td>2022-02-02 10:00:00</td>\n",
       "      <td>instagram</td>\n",
       "      <td>Intermediate</td>\n",
       "    </tr>\n",
       "    <tr>\n",
       "      <th>4</th>\n",
       "      <td>user_5</td>\n",
       "      <td>MALE</td>\n",
       "      <td>Hyderabad</td>\n",
       "      <td>2022-02-02 10:00:00</td>\n",
       "      <td>user_referral</td>\n",
       "      <td>M.Tech</td>\n",
       "    </tr>\n",
       "  </tbody>\n",
       "</table>\n",
       "</div>"
      ],
      "text/plain": [
       "  user_id  gender   current_city batch_start_datetime referral_source  \\\n",
       "0  user_1  FEMALE      Hyderabad  2022-02-02 10:00:00      youtube_ad   \n",
       "1  user_2  FEMALE      Bengaluru  2022-02-02 10:00:00   user_referral   \n",
       "2  user_3    MALE  Visakhapatnam  2022-02-02 10:00:00         website   \n",
       "3  user_4    MALE         Mumbai  2022-02-02 10:00:00       instagram   \n",
       "4  user_5    MALE      Hyderabad  2022-02-02 10:00:00   user_referral   \n",
       "\n",
       "  highest_qualification  \n",
       "0                B.Tech  \n",
       "1        10th Completed  \n",
       "2                Degree  \n",
       "3          Intermediate  \n",
       "4                M.Tech  "
      ]
     },
     "execution_count": 21,
     "metadata": {},
     "output_type": "execute_result"
    }
   ],
   "source": [
    "user_details.head()"
   ]
  },
  {
   "cell_type": "markdown",
   "id": "45af2f83",
   "metadata": {},
   "source": [
    "#### Basic information about Features"
   ]
  },
  {
   "cell_type": "code",
   "execution_count": 22,
   "id": "692da278",
   "metadata": {},
   "outputs": [
    {
     "name": "stdout",
     "output_type": "stream",
     "text": [
      "<class 'pandas.core.frame.DataFrame'>\n",
      "RangeIndex: 53 entries, 0 to 52\n",
      "Data columns (total 6 columns):\n",
      " #   Column                 Non-Null Count  Dtype \n",
      "---  ------                 --------------  ----- \n",
      " 0   user_id                53 non-null     object\n",
      " 1   gender                 53 non-null     object\n",
      " 2   current_city           53 non-null     object\n",
      " 3   batch_start_datetime   53 non-null     object\n",
      " 4   referral_source        53 non-null     object\n",
      " 5   highest_qualification  53 non-null     object\n",
      "dtypes: object(6)\n",
      "memory usage: 2.6+ KB\n"
     ]
    }
   ],
   "source": [
    "user_details.info()"
   ]
  },
  {
   "cell_type": "markdown",
   "id": "a3bf316d",
   "metadata": {},
   "source": [
    "From this given information each feature contain String value, this string represent category othewise plain text."
   ]
  },
  {
   "cell_type": "markdown",
   "id": "b19fa53c",
   "metadata": {},
   "source": [
    "#### Percentage of Male and Female with percentage"
   ]
  },
  {
   "cell_type": "code",
   "execution_count": 23,
   "id": "355d2ad6",
   "metadata": {},
   "outputs": [],
   "source": [
    "def group_by_var1(dataframe, var1):\n",
    "    \n",
    "    '''Two variable group by function'''\n",
    "    group_fun   = dataframe[var1]\n",
    "    group_value = group_fun.value_counts(normalize=True).mul(100)\n",
    "    dataframe   = pd.DataFrame(group_value.reset_index(name = \"Percentage\"))\n",
    "    return dataframe.round(1)"
   ]
  },
  {
   "cell_type": "code",
   "execution_count": 24,
   "id": "66294d41",
   "metadata": {},
   "outputs": [
    {
     "data": {
      "text/html": [
       "<div>\n",
       "<style scoped>\n",
       "    .dataframe tbody tr th:only-of-type {\n",
       "        vertical-align: middle;\n",
       "    }\n",
       "\n",
       "    .dataframe tbody tr th {\n",
       "        vertical-align: top;\n",
       "    }\n",
       "\n",
       "    .dataframe thead th {\n",
       "        text-align: right;\n",
       "    }\n",
       "</style>\n",
       "<table border=\"1\" class=\"dataframe\">\n",
       "  <thead>\n",
       "    <tr style=\"text-align: right;\">\n",
       "      <th></th>\n",
       "      <th>index</th>\n",
       "      <th>Percentage</th>\n",
       "    </tr>\n",
       "  </thead>\n",
       "  <tbody>\n",
       "    <tr>\n",
       "      <th>0</th>\n",
       "      <td>MALE</td>\n",
       "      <td>60.4</td>\n",
       "    </tr>\n",
       "    <tr>\n",
       "      <th>1</th>\n",
       "      <td>FEMALE</td>\n",
       "      <td>37.7</td>\n",
       "    </tr>\n",
       "    <tr>\n",
       "      <th>2</th>\n",
       "      <td>OTHER</td>\n",
       "      <td>1.9</td>\n",
       "    </tr>\n",
       "  </tbody>\n",
       "</table>\n",
       "</div>"
      ],
      "text/plain": [
       "    index  Percentage\n",
       "0    MALE        60.4\n",
       "1  FEMALE        37.7\n",
       "2   OTHER         1.9"
      ]
     },
     "execution_count": 24,
     "metadata": {},
     "output_type": "execute_result"
    }
   ],
   "source": [
    "user_gender = group_by_var1(user_details, 'gender')\n",
    "user_gender"
   ]
  },
  {
   "cell_type": "markdown",
   "id": "9bc842da",
   "metadata": {},
   "source": [
    "#### Graphical Representation : Pie plot"
   ]
  },
  {
   "cell_type": "code",
   "execution_count": 25,
   "id": "4489e958",
   "metadata": {},
   "outputs": [
    {
     "data": {
      "image/png": "[encoded data removed]",
      "text/plain": [
       "<Figure size 432x288 with 1 Axes>"
      ]
     },
     "metadata": {},
     "output_type": "display_data"
    }
   ],
   "source": [
    "plt.pie(user_gender['Percentage'],labels = user_gender['index'], autopct='%.0f%%')\n",
    "plt.show()"
   ]
  },
  {
   "cell_type": "markdown",
   "id": "3999eaa1",
   "metadata": {},
   "source": [
    "#### Percentage of Users in a City with percentage"
   ]
  },
  {
   "cell_type": "code",
   "execution_count": 26,
   "id": "c95c9a06",
   "metadata": {},
   "outputs": [
    {
     "data": {
      "text/html": [
       "<div>\n",
       "<style scoped>\n",
       "    .dataframe tbody tr th:only-of-type {\n",
       "        vertical-align: middle;\n",
       "    }\n",
       "\n",
       "    .dataframe tbody tr th {\n",
       "        vertical-align: top;\n",
       "    }\n",
       "\n",
       "    .dataframe thead th {\n",
       "        text-align: right;\n",
       "    }\n",
       "</style>\n",
       "<table border=\"1\" class=\"dataframe\">\n",
       "  <thead>\n",
       "    <tr style=\"text-align: right;\">\n",
       "      <th></th>\n",
       "      <th>index</th>\n",
       "      <th>Percentage</th>\n",
       "    </tr>\n",
       "  </thead>\n",
       "  <tbody>\n",
       "    <tr>\n",
       "      <th>0</th>\n",
       "      <td>Hyderabad</td>\n",
       "      <td>22.6</td>\n",
       "    </tr>\n",
       "    <tr>\n",
       "      <th>1</th>\n",
       "      <td>Mumbai</td>\n",
       "      <td>18.9</td>\n",
       "    </tr>\n",
       "    <tr>\n",
       "      <th>2</th>\n",
       "      <td>Bengaluru</td>\n",
       "      <td>17.0</td>\n",
       "    </tr>\n",
       "    <tr>\n",
       "      <th>3</th>\n",
       "      <td>Visakhapatnam</td>\n",
       "      <td>15.1</td>\n",
       "    </tr>\n",
       "    <tr>\n",
       "      <th>4</th>\n",
       "      <td>Delhi</td>\n",
       "      <td>15.1</td>\n",
       "    </tr>\n",
       "    <tr>\n",
       "      <th>5</th>\n",
       "      <td>Kochi</td>\n",
       "      <td>11.3</td>\n",
       "    </tr>\n",
       "  </tbody>\n",
       "</table>\n",
       "</div>"
      ],
      "text/plain": [
       "           index  Percentage\n",
       "0      Hyderabad        22.6\n",
       "1         Mumbai        18.9\n",
       "2      Bengaluru        17.0\n",
       "3  Visakhapatnam        15.1\n",
       "4          Delhi        15.1\n",
       "5          Kochi        11.3"
      ]
     },
     "execution_count": 26,
     "metadata": {},
     "output_type": "execute_result"
    }
   ],
   "source": [
    "user_city = group_by_var1(user_details, 'current_city')\n",
    "user_city"
   ]
  },
  {
   "cell_type": "markdown",
   "id": "3b8d8ffc",
   "metadata": {},
   "source": [
    "#### Graphical Representation : Pie plot"
   ]
  },
  {
   "cell_type": "code",
   "execution_count": 27,
   "id": "cc182369",
   "metadata": {},
   "outputs": [
    {
     "data": {
      "image/png": "[encoded data removed]",
      "text/plain": [
       "<Figure size 432x288 with 1 Axes>"
      ]
     },
     "metadata": {},
     "output_type": "display_data"
    }
   ],
   "source": [
    "plt.pie(user_city['Percentage'],labels = user_city['index'], autopct='%.0f%%')\n",
    "plt.show()"
   ]
  },
  {
   "cell_type": "markdown",
   "id": "1f74ec87",
   "metadata": {},
   "source": [
    "#### Percentage of Male Female in a city"
   ]
  },
  {
   "cell_type": "code",
   "execution_count": 28,
   "id": "0561746f",
   "metadata": {},
   "outputs": [
    {
     "data": {
      "text/html": [
       "<div>\n",
       "<style scoped>\n",
       "    .dataframe tbody tr th:only-of-type {\n",
       "        vertical-align: middle;\n",
       "    }\n",
       "\n",
       "    .dataframe tbody tr th {\n",
       "        vertical-align: top;\n",
       "    }\n",
       "\n",
       "    .dataframe thead th {\n",
       "        text-align: right;\n",
       "    }\n",
       "</style>\n",
       "<table border=\"1\" class=\"dataframe\">\n",
       "  <thead>\n",
       "    <tr style=\"text-align: right;\">\n",
       "      <th></th>\n",
       "      <th>gender</th>\n",
       "      <th>current_city</th>\n",
       "      <th>Percentage</th>\n",
       "    </tr>\n",
       "  </thead>\n",
       "  <tbody>\n",
       "    <tr>\n",
       "      <th>0</th>\n",
       "      <td>FEMALE</td>\n",
       "      <td>Hyderabad</td>\n",
       "      <td>40.0</td>\n",
       "    </tr>\n",
       "    <tr>\n",
       "      <th>1</th>\n",
       "      <td>FEMALE</td>\n",
       "      <td>Bengaluru</td>\n",
       "      <td>20.0</td>\n",
       "    </tr>\n",
       "    <tr>\n",
       "      <th>2</th>\n",
       "      <td>FEMALE</td>\n",
       "      <td>Visakhapatnam</td>\n",
       "      <td>20.0</td>\n",
       "    </tr>\n",
       "    <tr>\n",
       "      <th>3</th>\n",
       "      <td>FEMALE</td>\n",
       "      <td>Mumbai</td>\n",
       "      <td>10.0</td>\n",
       "    </tr>\n",
       "    <tr>\n",
       "      <th>4</th>\n",
       "      <td>FEMALE</td>\n",
       "      <td>Delhi</td>\n",
       "      <td>5.0</td>\n",
       "    </tr>\n",
       "    <tr>\n",
       "      <th>5</th>\n",
       "      <td>FEMALE</td>\n",
       "      <td>Kochi</td>\n",
       "      <td>5.0</td>\n",
       "    </tr>\n",
       "    <tr>\n",
       "      <th>6</th>\n",
       "      <td>MALE</td>\n",
       "      <td>Mumbai</td>\n",
       "      <td>25.0</td>\n",
       "    </tr>\n",
       "    <tr>\n",
       "      <th>7</th>\n",
       "      <td>MALE</td>\n",
       "      <td>Delhi</td>\n",
       "      <td>21.9</td>\n",
       "    </tr>\n",
       "    <tr>\n",
       "      <th>8</th>\n",
       "      <td>MALE</td>\n",
       "      <td>Bengaluru</td>\n",
       "      <td>15.6</td>\n",
       "    </tr>\n",
       "    <tr>\n",
       "      <th>9</th>\n",
       "      <td>MALE</td>\n",
       "      <td>Hyderabad</td>\n",
       "      <td>12.5</td>\n",
       "    </tr>\n",
       "    <tr>\n",
       "      <th>10</th>\n",
       "      <td>MALE</td>\n",
       "      <td>Kochi</td>\n",
       "      <td>12.5</td>\n",
       "    </tr>\n",
       "    <tr>\n",
       "      <th>11</th>\n",
       "      <td>MALE</td>\n",
       "      <td>Visakhapatnam</td>\n",
       "      <td>12.5</td>\n",
       "    </tr>\n",
       "    <tr>\n",
       "      <th>12</th>\n",
       "      <td>OTHER</td>\n",
       "      <td>Kochi</td>\n",
       "      <td>100.0</td>\n",
       "    </tr>\n",
       "  </tbody>\n",
       "</table>\n",
       "</div>"
      ],
      "text/plain": [
       "    gender   current_city  Percentage\n",
       "0   FEMALE      Hyderabad        40.0\n",
       "1   FEMALE      Bengaluru        20.0\n",
       "2   FEMALE  Visakhapatnam        20.0\n",
       "3   FEMALE         Mumbai        10.0\n",
       "4   FEMALE          Delhi         5.0\n",
       "5   FEMALE          Kochi         5.0\n",
       "6     MALE         Mumbai        25.0\n",
       "7     MALE          Delhi        21.9\n",
       "8     MALE      Bengaluru        15.6\n",
       "9     MALE      Hyderabad        12.5\n",
       "10    MALE          Kochi        12.5\n",
       "11    MALE  Visakhapatnam        12.5\n",
       "12   OTHER          Kochi       100.0"
      ]
     },
     "execution_count": 28,
     "metadata": {},
     "output_type": "execute_result"
    }
   ],
   "source": [
    "gender_per_city = group_by_count(user_details, 'gender', 'current_city')\n",
    "gender_per_city"
   ]
  },
  {
   "cell_type": "markdown",
   "id": "8d581251",
   "metadata": {},
   "source": [
    "#### Graphical Representation : Bar plot"
   ]
  },
  {
   "cell_type": "code",
   "execution_count": 29,
   "id": "65a17dac",
   "metadata": {},
   "outputs": [
    {
     "data": {
      "text/plain": [
       "<AxesSubplot:xlabel='current_city', ylabel='Percentage'>"
      ]
     },
     "execution_count": 29,
     "metadata": {},
     "output_type": "execute_result"
    },
    {
     "data": {
      "image/png": "[encoded data removed]",
      "text/plain": [
       "<Figure size 864x360 with 2 Axes>"
      ]
     },
     "metadata": {
      "needs_background": "light"
     },
     "output_type": "display_data"
    }
   ],
   "source": [
    "fig, axs = plt.subplots(ncols=2,figsize = (12,5))\n",
    "\n",
    "sns.barplot(data = gender_per_city.loc[gender_per_city['gender']=='MALE'],\n",
    "            x = 'current_city',y = 'Percentage', ax = axs[0])\n",
    "sns.barplot(data = gender_per_city.loc[gender_per_city['gender']=='FEMALE'],\n",
    "            x = 'current_city',y = 'Percentage', ax = axs[1])"
   ]
  },
  {
   "cell_type": "code",
   "execution_count": 30,
   "id": "b31b7191",
   "metadata": {},
   "outputs": [
    {
     "name": "stdout",
     "output_type": "stream",
     "text": [
      "User Feedback Data\n",
      "Number of instance:  27\n",
      "Number of feature :  5\n"
     ]
    }
   ],
   "source": [
    "print('User Feedback Data')\n",
    "print('Number of instance: ', user_feedback.shape[0])\n",
    "print('Number of feature : ', user_feedback.shape[1])"
   ]
  },
  {
   "cell_type": "markdown",
   "id": "9985dbdd",
   "metadata": {},
   "source": [
    "#### First five observations"
   ]
  },
  {
   "cell_type": "code",
   "execution_count": 31,
   "id": "dbf1b359",
   "metadata": {},
   "outputs": [
    {
     "data": {
      "text/html": [
       "<div>\n",
       "<style scoped>\n",
       "    .dataframe tbody tr th:only-of-type {\n",
       "        vertical-align: middle;\n",
       "    }\n",
       "\n",
       "    .dataframe tbody tr th {\n",
       "        vertical-align: top;\n",
       "    }\n",
       "\n",
       "    .dataframe thead th {\n",
       "        text-align: right;\n",
       "    }\n",
       "</style>\n",
       "<table border=\"1\" class=\"dataframe\">\n",
       "  <thead>\n",
       "    <tr style=\"text-align: right;\">\n",
       "      <th></th>\n",
       "      <th>feedback_id</th>\n",
       "      <th>feedback_submission_datetime</th>\n",
       "      <th>user_id</th>\n",
       "      <th>discussion_id</th>\n",
       "      <th>rating</th>\n",
       "    </tr>\n",
       "  </thead>\n",
       "  <tbody>\n",
       "    <tr>\n",
       "      <th>0</th>\n",
       "      <td>fd_dis_1</td>\n",
       "      <td>2022-01-18 16:53:46</td>\n",
       "      <td>user_25</td>\n",
       "      <td>dis_47</td>\n",
       "      <td>3.0</td>\n",
       "    </tr>\n",
       "    <tr>\n",
       "      <th>1</th>\n",
       "      <td>fd_dis_2</td>\n",
       "      <td>2022-01-19 19:24:09</td>\n",
       "      <td>user_25</td>\n",
       "      <td>dis_48</td>\n",
       "      <td>5.0</td>\n",
       "    </tr>\n",
       "    <tr>\n",
       "      <th>2</th>\n",
       "      <td>fd_dis_3</td>\n",
       "      <td>2022-02-01 12:24:00</td>\n",
       "      <td>user_4</td>\n",
       "      <td>dis_2</td>\n",
       "      <td>5.0</td>\n",
       "    </tr>\n",
       "    <tr>\n",
       "      <th>3</th>\n",
       "      <td>fd_dis_4</td>\n",
       "      <td>2022-02-17 18:36:12</td>\n",
       "      <td>user_7</td>\n",
       "      <td>dis_60</td>\n",
       "      <td>5.0</td>\n",
       "    </tr>\n",
       "    <tr>\n",
       "      <th>4</th>\n",
       "      <td>fd_dis_5</td>\n",
       "      <td>2022-02-16 21:12:58</td>\n",
       "      <td>user_7</td>\n",
       "      <td>dis_61</td>\n",
       "      <td>5.0</td>\n",
       "    </tr>\n",
       "  </tbody>\n",
       "</table>\n",
       "</div>"
      ],
      "text/plain": [
       "  feedback_id feedback_submission_datetime  user_id discussion_id  rating\n",
       "0    fd_dis_1          2022-01-18 16:53:46  user_25        dis_47     3.0\n",
       "1    fd_dis_2          2022-01-19 19:24:09  user_25        dis_48     5.0\n",
       "2    fd_dis_3          2022-02-01 12:24:00   user_4         dis_2     5.0\n",
       "3    fd_dis_4          2022-02-17 18:36:12   user_7        dis_60     5.0\n",
       "4    fd_dis_5          2022-02-16 21:12:58   user_7        dis_61     5.0"
      ]
     },
     "execution_count": 31,
     "metadata": {},
     "output_type": "execute_result"
    }
   ],
   "source": [
    "user_feedback.head()"
   ]
  },
  {
   "cell_type": "markdown",
   "id": "a2c3760c",
   "metadata": {},
   "source": [
    "#### Basic information of Features"
   ]
  },
  {
   "cell_type": "code",
   "execution_count": 32,
   "id": "56796821",
   "metadata": {},
   "outputs": [
    {
     "name": "stdout",
     "output_type": "stream",
     "text": [
      "<class 'pandas.core.frame.DataFrame'>\n",
      "RangeIndex: 27 entries, 0 to 26\n",
      "Data columns (total 5 columns):\n",
      " #   Column                        Non-Null Count  Dtype  \n",
      "---  ------                        --------------  -----  \n",
      " 0   feedback_id                   27 non-null     object \n",
      " 1   feedback_submission_datetime  27 non-null     object \n",
      " 2   user_id                       27 non-null     object \n",
      " 3   discussion_id                 27 non-null     object \n",
      " 4   rating                        26 non-null     float64\n",
      "dtypes: float64(1), object(4)\n",
      "memory usage: 1.2+ KB\n"
     ]
    }
   ],
   "source": [
    "user_feedback.info()"
   ]
  },
  {
   "cell_type": "markdown",
   "id": "5fd7d448",
   "metadata": {},
   "source": [
    "#### Unique Rating"
   ]
  },
  {
   "cell_type": "code",
   "execution_count": 33,
   "id": "a368ff6b",
   "metadata": {},
   "outputs": [
    {
     "data": {
      "text/plain": [
       "array([  3.,   5., 100.,   4.,  90.,  nan])"
      ]
     },
     "execution_count": 33,
     "metadata": {},
     "output_type": "execute_result"
    }
   ],
   "source": [
    "user_feedback['rating'].unique()"
   ]
  },
  {
   "cell_type": "markdown",
   "id": "1c6cd28a",
   "metadata": {},
   "source": [
    "From this User rating two person give unexpected responce 100 and 90 and another one nan. For better analysis we replace by mean rating because total number of instance very low for this tranformation others columns information not loose."
   ]
  },
  {
   "cell_type": "code",
   "execution_count": 34,
   "id": "c34f68ab",
   "metadata": {},
   "outputs": [
    {
     "name": "stdout",
     "output_type": "stream",
     "text": [
      "Total number of valid instance : 24\n",
      "Mean : 4.875\n",
      "Replace instance : [11, 15, 26]\n"
     ]
    }
   ],
   "source": [
    "rating = user_feedback['rating']\n",
    "replace_list = []\n",
    "count = 0\n",
    "sum = 0\n",
    "for i in range(len(rating)):\n",
    "    if rating[i]>=0 and rating[i]<=5:\n",
    "        sum = sum + rating[i]\n",
    "        count = count + 1\n",
    "    else:\n",
    "        replace_list.append(i)\n",
    "\n",
    "mean = sum/count\n",
    "print('Total number of valid instance :', count)\n",
    "print('Mean :', mean)\n",
    "print('Replace instance :', replace_list)"
   ]
  },
  {
   "cell_type": "code",
   "execution_count": 35,
   "id": "b4563bb6",
   "metadata": {},
   "outputs": [
    {
     "data": {
      "text/plain": [
       "array([3.   , 5.   , 4.875, 4.   ])"
      ]
     },
     "execution_count": 35,
     "metadata": {},
     "output_type": "execute_result"
    }
   ],
   "source": [
    "user_feedback['rating'] = user_feedback['rating'].replace([100, 90, np.nan], mean)\n",
    "user_feedback['rating'].unique() "
   ]
  },
  {
   "cell_type": "markdown",
   "id": "1b277715",
   "metadata": {},
   "source": [
    "#### Marge two dataset User Details and user feedback "
   ]
  },
  {
   "cell_type": "code",
   "execution_count": 36,
   "id": "10fd536b",
   "metadata": {},
   "outputs": [
    {
     "data": {
      "text/html": [
       "<div>\n",
       "<style scoped>\n",
       "    .dataframe tbody tr th:only-of-type {\n",
       "        vertical-align: middle;\n",
       "    }\n",
       "\n",
       "    .dataframe tbody tr th {\n",
       "        vertical-align: top;\n",
       "    }\n",
       "\n",
       "    .dataframe thead th {\n",
       "        text-align: right;\n",
       "    }\n",
       "</style>\n",
       "<table border=\"1\" class=\"dataframe\">\n",
       "  <thead>\n",
       "    <tr style=\"text-align: right;\">\n",
       "      <th></th>\n",
       "      <th>user_id</th>\n",
       "      <th>gender</th>\n",
       "      <th>current_city</th>\n",
       "      <th>batch_start_datetime</th>\n",
       "      <th>referral_source</th>\n",
       "      <th>highest_qualification</th>\n",
       "      <th>feedback_id</th>\n",
       "      <th>feedback_submission_datetime</th>\n",
       "      <th>discussion_id</th>\n",
       "      <th>rating</th>\n",
       "    </tr>\n",
       "  </thead>\n",
       "  <tbody>\n",
       "    <tr>\n",
       "      <th>0</th>\n",
       "      <td>user_4</td>\n",
       "      <td>MALE</td>\n",
       "      <td>Mumbai</td>\n",
       "      <td>2022-02-02 10:00:00</td>\n",
       "      <td>instagram</td>\n",
       "      <td>Intermediate</td>\n",
       "      <td>fd_dis_3</td>\n",
       "      <td>2022-02-01 12:24:00</td>\n",
       "      <td>dis_2</td>\n",
       "      <td>5.000</td>\n",
       "    </tr>\n",
       "    <tr>\n",
       "      <th>1</th>\n",
       "      <td>user_4</td>\n",
       "      <td>MALE</td>\n",
       "      <td>Mumbai</td>\n",
       "      <td>2022-02-02 10:00:00</td>\n",
       "      <td>instagram</td>\n",
       "      <td>Intermediate</td>\n",
       "      <td>fd_dis_12</td>\n",
       "      <td>2022-02-01 19:36:00</td>\n",
       "      <td>dis_8</td>\n",
       "      <td>4.875</td>\n",
       "    </tr>\n",
       "    <tr>\n",
       "      <th>2</th>\n",
       "      <td>user_5</td>\n",
       "      <td>MALE</td>\n",
       "      <td>Hyderabad</td>\n",
       "      <td>2022-02-02 10:00:00</td>\n",
       "      <td>user_referral</td>\n",
       "      <td>M.Tech</td>\n",
       "      <td>fd_dis_19</td>\n",
       "      <td>2022-02-02 19:36:00</td>\n",
       "      <td>dis_5</td>\n",
       "      <td>5.000</td>\n",
       "    </tr>\n",
       "    <tr>\n",
       "      <th>3</th>\n",
       "      <td>user_7</td>\n",
       "      <td>MALE</td>\n",
       "      <td>Kochi</td>\n",
       "      <td>2022-02-02 10:00:00</td>\n",
       "      <td>youtube_ad</td>\n",
       "      <td>B.Tech</td>\n",
       "      <td>fd_dis_4</td>\n",
       "      <td>2022-02-17 18:36:12</td>\n",
       "      <td>dis_60</td>\n",
       "      <td>5.000</td>\n",
       "    </tr>\n",
       "    <tr>\n",
       "      <th>4</th>\n",
       "      <td>user_7</td>\n",
       "      <td>MALE</td>\n",
       "      <td>Kochi</td>\n",
       "      <td>2022-02-02 10:00:00</td>\n",
       "      <td>youtube_ad</td>\n",
       "      <td>B.Tech</td>\n",
       "      <td>fd_dis_5</td>\n",
       "      <td>2022-02-16 21:12:58</td>\n",
       "      <td>dis_61</td>\n",
       "      <td>5.000</td>\n",
       "    </tr>\n",
       "  </tbody>\n",
       "</table>\n",
       "</div>"
      ],
      "text/plain": [
       "  user_id gender current_city batch_start_datetime referral_source  \\\n",
       "0  user_4   MALE       Mumbai  2022-02-02 10:00:00       instagram   \n",
       "1  user_4   MALE       Mumbai  2022-02-02 10:00:00       instagram   \n",
       "2  user_5   MALE    Hyderabad  2022-02-02 10:00:00   user_referral   \n",
       "3  user_7   MALE        Kochi  2022-02-02 10:00:00      youtube_ad   \n",
       "4  user_7   MALE        Kochi  2022-02-02 10:00:00      youtube_ad   \n",
       "\n",
       "  highest_qualification feedback_id feedback_submission_datetime  \\\n",
       "0          Intermediate    fd_dis_3          2022-02-01 12:24:00   \n",
       "1          Intermediate   fd_dis_12          2022-02-01 19:36:00   \n",
       "2                M.Tech   fd_dis_19          2022-02-02 19:36:00   \n",
       "3                B.Tech    fd_dis_4          2022-02-17 18:36:12   \n",
       "4                B.Tech    fd_dis_5          2022-02-16 21:12:58   \n",
       "\n",
       "  discussion_id  rating  \n",
       "0         dis_2   5.000  \n",
       "1         dis_8   4.875  \n",
       "2         dis_5   5.000  \n",
       "3        dis_60   5.000  \n",
       "4        dis_61   5.000  "
      ]
     },
     "execution_count": 36,
     "metadata": {},
     "output_type": "execute_result"
    }
   ],
   "source": [
    "data = pd.merge(user_details, user_feedback)\n",
    "data.head()"
   ]
  },
  {
   "cell_type": "markdown",
   "id": "30aff010",
   "metadata": {},
   "source": [
    "#### Basic information about Features"
   ]
  },
  {
   "cell_type": "code",
   "execution_count": 37,
   "id": "5e2e0aa8",
   "metadata": {},
   "outputs": [
    {
     "name": "stdout",
     "output_type": "stream",
     "text": [
      "<class 'pandas.core.frame.DataFrame'>\n",
      "Int64Index: 27 entries, 0 to 26\n",
      "Data columns (total 10 columns):\n",
      " #   Column                        Non-Null Count  Dtype  \n",
      "---  ------                        --------------  -----  \n",
      " 0   user_id                       27 non-null     object \n",
      " 1   gender                        27 non-null     object \n",
      " 2   current_city                  27 non-null     object \n",
      " 3   batch_start_datetime          27 non-null     object \n",
      " 4   referral_source               27 non-null     object \n",
      " 5   highest_qualification         27 non-null     object \n",
      " 6   feedback_id                   27 non-null     object \n",
      " 7   feedback_submission_datetime  27 non-null     object \n",
      " 8   discussion_id                 27 non-null     object \n",
      " 9   rating                        27 non-null     float64\n",
      "dtypes: float64(1), object(9)\n",
      "memory usage: 2.3+ KB\n"
     ]
    }
   ],
   "source": [
    "data.info()"
   ]
  },
  {
   "cell_type": "markdown",
   "id": "aff0a8eb",
   "metadata": {},
   "source": [
    "#### Gender and referral"
   ]
  },
  {
   "cell_type": "code",
   "execution_count": 38,
   "id": "13e86e80",
   "metadata": {},
   "outputs": [
    {
     "data": {
      "text/html": [
       "<div>\n",
       "<style scoped>\n",
       "    .dataframe tbody tr th:only-of-type {\n",
       "        vertical-align: middle;\n",
       "    }\n",
       "\n",
       "    .dataframe tbody tr th {\n",
       "        vertical-align: top;\n",
       "    }\n",
       "\n",
       "    .dataframe thead th {\n",
       "        text-align: right;\n",
       "    }\n",
       "</style>\n",
       "<table border=\"1\" class=\"dataframe\">\n",
       "  <thead>\n",
       "    <tr style=\"text-align: right;\">\n",
       "      <th></th>\n",
       "      <th>gender</th>\n",
       "      <th>referral_source</th>\n",
       "      <th>Percentage</th>\n",
       "    </tr>\n",
       "  </thead>\n",
       "  <tbody>\n",
       "    <tr>\n",
       "      <th>0</th>\n",
       "      <td>FEMALE</td>\n",
       "      <td>youtube_ad</td>\n",
       "      <td>44.4</td>\n",
       "    </tr>\n",
       "    <tr>\n",
       "      <th>1</th>\n",
       "      <td>FEMALE</td>\n",
       "      <td>website</td>\n",
       "      <td>33.3</td>\n",
       "    </tr>\n",
       "    <tr>\n",
       "      <th>2</th>\n",
       "      <td>FEMALE</td>\n",
       "      <td>instagram</td>\n",
       "      <td>22.2</td>\n",
       "    </tr>\n",
       "    <tr>\n",
       "      <th>3</th>\n",
       "      <td>MALE</td>\n",
       "      <td>instagram</td>\n",
       "      <td>61.1</td>\n",
       "    </tr>\n",
       "    <tr>\n",
       "      <th>4</th>\n",
       "      <td>MALE</td>\n",
       "      <td>youtube_ad</td>\n",
       "      <td>22.2</td>\n",
       "    </tr>\n",
       "    <tr>\n",
       "      <th>5</th>\n",
       "      <td>MALE</td>\n",
       "      <td>user_referral</td>\n",
       "      <td>16.7</td>\n",
       "    </tr>\n",
       "  </tbody>\n",
       "</table>\n",
       "</div>"
      ],
      "text/plain": [
       "   gender referral_source  Percentage\n",
       "0  FEMALE      youtube_ad        44.4\n",
       "1  FEMALE         website        33.3\n",
       "2  FEMALE       instagram        22.2\n",
       "3    MALE       instagram        61.1\n",
       "4    MALE      youtube_ad        22.2\n",
       "5    MALE   user_referral        16.7"
      ]
     },
     "execution_count": 38,
     "metadata": {},
     "output_type": "execute_result"
    }
   ],
   "source": [
    "gen_ref = group_by_count(data, 'gender', 'referral_source')\n",
    "gen_ref"
   ]
  },
  {
   "cell_type": "markdown",
   "id": "4858edac",
   "metadata": {},
   "source": [
    "#### Graphical Representation : Bar plot"
   ]
  },
  {
   "cell_type": "code",
   "execution_count": 39,
   "id": "0d6518b0",
   "metadata": {},
   "outputs": [
    {
     "data": {
      "text/plain": [
       "<AxesSubplot:xlabel='referral_source', ylabel='Percentage'>"
      ]
     },
     "execution_count": 39,
     "metadata": {},
     "output_type": "execute_result"
    },
    {
     "data": {
      "image/png": "[encoded data removed]",
      "text/plain": [
       "<Figure size 864x360 with 2 Axes>"
      ]
     },
     "metadata": {
      "needs_background": "light"
     },
     "output_type": "display_data"
    }
   ],
   "source": [
    "fig, axs = plt.subplots(ncols=2,figsize = (12,5))\n",
    "\n",
    "sns.barplot(data = gen_ref.loc[gen_ref['gender']=='MALE'],\n",
    "            x = 'referral_source',y = 'Percentage', ax = axs[0])\n",
    "sns.barplot(data = gen_ref.loc[gen_ref['gender']=='FEMALE'],\n",
    "            x = 'referral_source',y = 'Percentage', ax = axs[1])"
   ]
  },
  {
   "cell_type": "markdown",
   "id": "749cd583",
   "metadata": {},
   "source": [
    "#### Gender city and referral source"
   ]
  },
  {
   "cell_type": "code",
   "execution_count": 40,
   "id": "68010b02",
   "metadata": {},
   "outputs": [],
   "source": [
    "def group_by_var123(dataframe, var1, var2, var3):\n",
    "    \n",
    "    '''Two variable group by function'''\n",
    "    \n",
    "    group_fun   = dataframe.groupby([var1,var2])[var3]\n",
    "    group_value = group_fun.value_counts(normalize=True).mul(100)\n",
    "    dataframe   = pd.DataFrame(group_value.reset_index(name = \"Percentage\"))\n",
    "    return dataframe.round(1)"
   ]
  },
  {
   "cell_type": "code",
   "execution_count": 41,
   "id": "ff9a8859",
   "metadata": {},
   "outputs": [
    {
     "data": {
      "text/html": [
       "<div>\n",
       "<style scoped>\n",
       "    .dataframe tbody tr th:only-of-type {\n",
       "        vertical-align: middle;\n",
       "    }\n",
       "\n",
       "    .dataframe tbody tr th {\n",
       "        vertical-align: top;\n",
       "    }\n",
       "\n",
       "    .dataframe thead th {\n",
       "        text-align: right;\n",
       "    }\n",
       "</style>\n",
       "<table border=\"1\" class=\"dataframe\">\n",
       "  <thead>\n",
       "    <tr style=\"text-align: right;\">\n",
       "      <th></th>\n",
       "      <th>gender</th>\n",
       "      <th>current_city</th>\n",
       "      <th>referral_source</th>\n",
       "      <th>Percentage</th>\n",
       "    </tr>\n",
       "  </thead>\n",
       "  <tbody>\n",
       "    <tr>\n",
       "      <th>0</th>\n",
       "      <td>FEMALE</td>\n",
       "      <td>Mumbai</td>\n",
       "      <td>instagram</td>\n",
       "      <td>100.0</td>\n",
       "    </tr>\n",
       "    <tr>\n",
       "      <th>1</th>\n",
       "      <td>FEMALE</td>\n",
       "      <td>Visakhapatnam</td>\n",
       "      <td>youtube_ad</td>\n",
       "      <td>50.0</td>\n",
       "    </tr>\n",
       "    <tr>\n",
       "      <th>2</th>\n",
       "      <td>FEMALE</td>\n",
       "      <td>Visakhapatnam</td>\n",
       "      <td>website</td>\n",
       "      <td>37.5</td>\n",
       "    </tr>\n",
       "    <tr>\n",
       "      <th>3</th>\n",
       "      <td>FEMALE</td>\n",
       "      <td>Visakhapatnam</td>\n",
       "      <td>instagram</td>\n",
       "      <td>12.5</td>\n",
       "    </tr>\n",
       "    <tr>\n",
       "      <th>4</th>\n",
       "      <td>MALE</td>\n",
       "      <td>Bengaluru</td>\n",
       "      <td>instagram</td>\n",
       "      <td>100.0</td>\n",
       "    </tr>\n",
       "    <tr>\n",
       "      <th>5</th>\n",
       "      <td>MALE</td>\n",
       "      <td>Delhi</td>\n",
       "      <td>instagram</td>\n",
       "      <td>100.0</td>\n",
       "    </tr>\n",
       "    <tr>\n",
       "      <th>6</th>\n",
       "      <td>MALE</td>\n",
       "      <td>Hyderabad</td>\n",
       "      <td>user_referral</td>\n",
       "      <td>100.0</td>\n",
       "    </tr>\n",
       "    <tr>\n",
       "      <th>7</th>\n",
       "      <td>MALE</td>\n",
       "      <td>Kochi</td>\n",
       "      <td>youtube_ad</td>\n",
       "      <td>80.0</td>\n",
       "    </tr>\n",
       "    <tr>\n",
       "      <th>8</th>\n",
       "      <td>MALE</td>\n",
       "      <td>Kochi</td>\n",
       "      <td>instagram</td>\n",
       "      <td>20.0</td>\n",
       "    </tr>\n",
       "    <tr>\n",
       "      <th>9</th>\n",
       "      <td>MALE</td>\n",
       "      <td>Mumbai</td>\n",
       "      <td>instagram</td>\n",
       "      <td>100.0</td>\n",
       "    </tr>\n",
       "    <tr>\n",
       "      <th>10</th>\n",
       "      <td>MALE</td>\n",
       "      <td>Visakhapatnam</td>\n",
       "      <td>user_referral</td>\n",
       "      <td>100.0</td>\n",
       "    </tr>\n",
       "  </tbody>\n",
       "</table>\n",
       "</div>"
      ],
      "text/plain": [
       "    gender   current_city referral_source  Percentage\n",
       "0   FEMALE         Mumbai       instagram       100.0\n",
       "1   FEMALE  Visakhapatnam      youtube_ad        50.0\n",
       "2   FEMALE  Visakhapatnam         website        37.5\n",
       "3   FEMALE  Visakhapatnam       instagram        12.5\n",
       "4     MALE      Bengaluru       instagram       100.0\n",
       "5     MALE          Delhi       instagram       100.0\n",
       "6     MALE      Hyderabad   user_referral       100.0\n",
       "7     MALE          Kochi      youtube_ad        80.0\n",
       "8     MALE          Kochi       instagram        20.0\n",
       "9     MALE         Mumbai       instagram       100.0\n",
       "10    MALE  Visakhapatnam   user_referral       100.0"
      ]
     },
     "execution_count": 41,
     "metadata": {},
     "output_type": "execute_result"
    }
   ],
   "source": [
    "group_by_var123(data, 'gender', 'current_city', 'referral_source')"
   ]
  },
  {
   "cell_type": "code",
   "execution_count": null,
   "id": "64d9e77e",
   "metadata": {},
   "outputs": [],
   "source": []
  }
 ],
 "metadata": {
  "kernelspec": {
   "display_name": "Python 3 (ipykernel)",
   "language": "python",
   "name": "python3"
  },
  "language_info": {
   "codemirror_mode": {
    "name": "ipython",
    "version": 3
   },
   "file_extension": ".py",
   "mimetype": "text/x-python",
   "name": "python",
   "nbconvert_exporter": "python",
   "pygments_lexer": "ipython3",
   "version": "3.9.7"
  }
 },
 "nbformat": 4,
 "nbformat_minor": 5
}
